maior = 0
numeros = []

n = int(input('Insira o a quantidade N '))

numeros = []
for i in range(20):
    numeros.append(int(input("Número: ")))